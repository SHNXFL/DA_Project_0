version https://git-lfs.github.com/spec/v1
oid sha256:6a48b05dee137585de02b7ef080e4408e7d5576b5ff55f1d39447f6b223c35d8
size 26479860
