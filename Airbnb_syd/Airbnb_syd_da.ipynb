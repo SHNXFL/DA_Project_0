version https://git-lfs.github.com/spec/v1
oid sha256:132c8de882b4938b79eb2fd7571a6d579efbf928dead4b96dcddc97c093dfc79
size 3893058
