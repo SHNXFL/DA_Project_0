version https://git-lfs.github.com/spec/v1
oid sha256:99e9dcf2c346b51741b021b23433b42051fb811980ef6d828d8c330e170367f5
size 3945877
