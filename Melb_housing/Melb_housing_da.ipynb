version https://git-lfs.github.com/spec/v1
oid sha256:6c9f3ca93b1ccf37fae71cc110344634006b123a86dd6f9d26c8eb3d10ec76fb
size 408555
