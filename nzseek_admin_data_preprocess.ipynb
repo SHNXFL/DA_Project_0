{
 "cells": [
  {
   "cell_type": "code",
   "execution_count": 1,
   "id": "299dfd0d",
   "metadata": {},
   "outputs": [],
   "source": [
    "import pandas as pd\n",
    "import regex as re"
   ]
  },
  {
   "cell_type": "code",
   "execution_count": 2,
   "id": "e795b7fb",
   "metadata": {},
   "outputs": [],
   "source": [
    "df = pd.read_excel(\"NZ_Admin_JOBS.xlsx\")"
   ]
  },
  {
   "cell_type": "code",
   "execution_count": 3,
   "id": "c2685cd1",
   "metadata": {},
   "outputs": [],
   "source": [
    "# Rename columns\n",
    "new_column_names = [\"position\", \"url\", \"company\", \"location\", \"elapsed_time_since_posted\", \"classification\"]\n",
    "df.columns = new_column_names"
   ]
  },
  {
   "cell_type": "code",
   "execution_count": 4,
   "id": "78cc4754",
   "metadata": {},
   "outputs": [],
   "source": [
    "# Position Capitalised\n",
    "df[\"position\"] = df[\"position\"].str.title()"
   ]
  },
  {
   "cell_type": "code",
   "execution_count": 5,
   "id": "0f4d92ed",
   "metadata": {},
   "outputs": [
    {
     "name": "stdout",
     "output_type": "stream",
     "text": [
      "(2708, 6)\n"
     ]
    }
   ],
   "source": [
    "dim = df.shape\n",
    "print(dim)"
   ]
  },
  {
   "cell_type": "code",
   "execution_count": 6,
   "id": "a306104f",
   "metadata": {},
   "outputs": [
    {
     "name": "stdout",
     "output_type": "stream",
     "text": [
      "2708\n"
     ]
    }
   ],
   "source": [
    "# Check unique URLs\n",
    "print(df[\"url\"].nunique())"
   ]
  },
  {
   "cell_type": "code",
   "execution_count": 7,
   "id": "af8825e4",
   "metadata": {},
   "outputs": [],
   "source": [
    "def extract_and_clean(row):\n",
    "    # Function to deduplicate by splitting the string in the middle\n",
    "    def deduplicate(s):\n",
    "        middle = len(s) // 2\n",
    "        return s[:middle].strip()\n",
    "\n",
    "    # Split the string at the comma, if present\n",
    "    parts = row.split(',', 1)\n",
    "    location_area_part = parts[0]\n",
    "    benefit_part = parts[1].strip() if len(parts) > 1 else pd.NA\n",
    "\n",
    "    # Check if \"area:\" is in the location_area_part\n",
    "    if \"area:\" in location_area_part:\n",
    "        # Find the index where \"area:\" starts\n",
    "        area_index = location_area_part.find(\"area:\")\n",
    "        \n",
    "        # Split the string into location and area parts\n",
    "        location_part = location_area_part[:area_index]\n",
    "        area_part = location_area_part[area_index:]\n",
    "    else:\n",
    "        # If \"area:\" is not present, the entire string is treated as the location part\n",
    "        location_part = location_area_part\n",
    "        area_part = \"\"\n",
    "\n",
    "    # Deduplicate and clean location and area\n",
    "    location = deduplicate(location_part.replace(\"location:\", \"\").strip())\n",
    "    area = deduplicate(area_part.replace(\"area:\", \"\").strip()) if area_part else pd.NA\n",
    "\n",
    "    return pd.Series([location, area, benefit_part])\n",
    "\n",
    "# Assuming df is your DataFrame with a column named 'location'\n",
    "df[['location', 'area', 'benefit']] = df['location'].apply(extract_and_clean)\n"
   ]
  },
  {
   "cell_type": "code",
   "execution_count": 8,
   "id": "c6acba76",
   "metadata": {},
   "outputs": [],
   "source": [
    "def extract_classification(row):\n",
    "    # Function to deduplicate by splitting the string in the middle\n",
    "    def deduplicate(s):\n",
    "        middle = len(s) // 2\n",
    "        return s[:middle].strip()\n",
    "\n",
    "    # Check if \"classification:\" is in the string\n",
    "    if \"classification:\" in row:\n",
    "        # Split the string into classification and subClassification parts\n",
    "        parts = row.split(\"subClassification:\")\n",
    "        classification_part = parts[0]\n",
    "        subClassification_part = parts[1] if len(parts) > 1 else pd.NA\n",
    "    else:\n",
    "        # If \"classification:\" is not present, set both parts to NA\n",
    "        return pd.Series([pd.NA, pd.NA])\n",
    "\n",
    "    # Deduplicate and clean classification and subClassification\n",
    "    classification = deduplicate(classification_part.replace(\"classification:\", \"\").strip())\n",
    "    subClassification = deduplicate(subClassification_part.replace(\"subClassification:\", \"\").strip()) if subClassification_part else pd.NA\n",
    "\n",
    "    return pd.Series([classification, subClassification])\n",
    "\n",
    "# Assuming df is your DataFrame with a column named 'classification'\n",
    "df[['classification', 'sub_classification']] = df['classification'].apply(extract_classification)"
   ]
  },
  {
   "cell_type": "code",
   "execution_count": 9,
   "id": "a5e287e9",
   "metadata": {
    "scrolled": true
   },
   "outputs": [
    {
     "name": "stdout",
     "output_type": "stream",
     "text": [
      "                               position  \\\n",
      "0                         Administrator   \n",
      "1                          Receptionist   \n",
      "2          Prosecutions Support Officer   \n",
      "3  Early Childhood Centre Administrator   \n",
      "4        Business Support Administrator   \n",
      "\n",
      "                                                 url  \\\n",
      "0  https://www.seek.co.nz/job/50582301?type=promo...   \n",
      "1  https://www.seek.co.nz/job/50620889?type=promo...   \n",
      "2  https://www.seek.co.nz/job/50622169?type=stand...   \n",
      "3  https://www.seek.co.nz/job/50639620?type=stand...   \n",
      "4  https://www.seek.co.nz/job/50622432?type=stand...   \n",
      "\n",
      "                                    company       location  \\\n",
      "0                                       NaN  Bay of Plenty   \n",
      "1                      Avenues Orthodontics  Bay of Plenty   \n",
      "2                        New Zealand Police       Auckland   \n",
      "3  Kew Pacific Island Early Learning Centre      Southland   \n",
      "4                                       NaN     Canterbury   \n",
      "\n",
      "        elapsed_time_since_posted                   classification  \\\n",
      "0  Featured,at,Private Advertiser  Administration & Office Support   \n",
      "1                     Featured,at  Administration & Office Support   \n",
      "2                       4d ago,at  Administration & Office Support   \n",
      "3                       1h ago,at  Administration & Office Support   \n",
      "4    4d ago,at,Private Advertiser  Administration & Office Support   \n",
      "\n",
      "           area benefit             sub_classification  \n",
      "0      Tauranga    <NA>              Office Management  \n",
      "1      Tauranga    <NA>                  Receptionists  \n",
      "2          <NA>    <NA>                          Other  \n",
      "3  Invercargill    <NA>      Administrative Assistants  \n",
      "4  Christchurch    <NA>  Client & Sales Administration  \n"
     ]
    }
   ],
   "source": [
    "print(df.head())"
   ]
  },
  {
   "cell_type": "code",
   "execution_count": null,
   "id": "57b87499",
   "metadata": {},
   "outputs": [],
   "source": []
  }
 ],
 "metadata": {
  "kernelspec": {
   "display_name": "Python 3 (ipykernel)",
   "language": "python",
   "name": "python3"
  },
  "language_info": {
   "codemirror_mode": {
    "name": "ipython",
    "version": 3
   },
   "file_extension": ".py",
   "mimetype": "text/x-python",
   "name": "python",
   "nbconvert_exporter": "python",
   "pygments_lexer": "ipython3",
   "version": "3.9.7"
  }
 },
 "nbformat": 4,
 "nbformat_minor": 5
}
